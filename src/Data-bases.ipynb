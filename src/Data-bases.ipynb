{
 "cells": [
  {
   "cell_type": "markdown",
   "id": "2dad7158",
   "metadata": {},
   "source": [
    "# Manejo de datos depositados en una Base de datos \n",
    "\n",
    "## 2. Conceptos clave: BioProject, BioSample, SRA y GEO\n",
    "De manera general, un BioProject (PRJNAxxxxxx) describe el proyecto de investigación en su conjunto (por ejemplo, un estudio de RNA-Seq) y se vincula a una o varias BioSamples (SAMNxxxxxx), que documentan las características biológicas de cada muestra. A partir de estas BioSamples se generan los datos crudos de secuenciación, almacenados en el Sequence Read Archive (SRA, SRRxxxxxx).\n",
    "\n",
    "En algunos casos, el proyecto también deposita información en Gene Expression Omnibus (GEO):\n",
    "\n",
    "Cada GSE corresponde a un experimento completo.\n",
    "Cada GSM corresponde a una muestra individual, asociada a sus archivos de secuenciación.\n",
    "En resumen, la ruta BioProject → BioSample → SRA está siempre presente, mientras que la rama hacia GEO es opcional y depende del tipo de estudio. \n",
    "\n",
    "\n",
    "\n",
    "## Entrez \n",
    "Es un modulo de **biopython**  que permite efecturar descarga de base de datos  \n",
    "\n",
    "### Resumen de funciones de Bio.Entrez\n",
    "- `esearch`: Buscar IDs en una base de datos.\n",
    "- `efetch`: Descargar información completa (texto, XML, secuencias, metadatos).\n",
    "- `esummary`: Obtener un resumen de un ID (título, organismo, etc.). \n",
    "> La función esummary devuelve un diccionario que resume la información esencial de un BioProject, incluyendo datos sobre el organismo, tipo y objetivo del > > proyecto, fecha de registro, estado de secuenciación y más. La siguiente estructura muestra los campos más relevantes obtenidos para el proyecto\n",
    "- `elink`: Encontrar vínculos entre bases de datos (ej. GSE → SRA).\n",
    "- `egquery`: Buscar un término en todas las bases del NCBI y ver cuántos resultados hay.\n",
    "- `espell`: Corregir errores ortográficos en la búsqueda.\n",
    "- `einfo`: Ver información de una base de datos (campos, descripción, qué contiene).\n",
    "- `read`: convierte la respuesta de NCBI, en un objeto de python(listas, diccionarios, strings, etc.)."
   ]
  },
  {
   "cell_type": "code",
   "execution_count": null,
   "id": "133e20d1",
   "metadata": {},
   "outputs": [
    {
     "name": "stdout",
     "output_type": "stream",
     "text": [
      "{'Count': '1', 'RetMax': '1', 'RetStart': '0', 'IdList': ['552284'], 'TranslationSet': [], 'TranslationStack': [{'Term': 'PRJNA552284[All Fields]', 'Field': 'All Fields', 'Count': '1', 'Explode': 'N'}, 'GROUP'], 'QueryTranslation': 'PRJNA552284[All Fields]'}\n",
      "552284\n",
      "{'DocumentSummarySet': DictElement({'DocumentSummary': [DictElement({'TaxId': '0', 'Project_Id': '552284', 'Project_Acc': 'PRJNA552284', 'Project_Type': 'Primary submission', 'Project_Data_Type': 'Raw sequence reads', 'Sort_By_ProjectType': '560569', 'Sort_By_DataType': '548649', 'Sort_By_Organism': '882014', 'Project_Subtype': '', 'Project_Target_Scope': 'Multispecies', 'Project_Target_Material': 'Genome', 'Project_Target_Capture': 'Whole', 'Project_MethodType': 'Sequencing', 'Project_Method': '', 'Project_Objectives_List': [{'Project_ObjectivesType': 'Raw Sequence Reads', 'Project_Objectives': ''}], 'Registration_Date': '2019/07/02 00:00', 'Project_Name': '', 'Project_Title': 'Babesia divergens strain:Bd Rouen 1987 | cultivar:Babesia divergens human red blood cells culture', 'Project_Description': 'Babesia divergens is a tick-borne, obligate intraerythrocytic apicomplexa parasite responsible of cattle and human babesiosis. While cattle babesiosis produces significant economic annual losses to the livestock industry, human babesiosis is considered a recently emerging public health problem main due to its high mortality rate in splenectomized and other immunocompromised patients. A high-quality draft genome of B. divergens was sequenced using Illumina, 454 and PacBio sequencing platforms. The combining strategy designed will allow comparative genomics and synteny studies due to its continuity close to chromosome resolution.', 'Keyword': '', 'Relevance_Agricultural': '', 'Relevance_Medical': 'yes', 'Relevance_Industrial': '', 'Relevance_Environmental': '', 'Relevance_Evolution': '', 'Relevance_Model': '', 'Relevance_Other': '', 'Organism_Name': '', 'Organism_Strain': '', 'Organism_Label': '', 'Sequencing_Status': 'SRA/Trace', 'Submitter_Organization': 'Biotechnology Institute of UNAM', 'Submitter_Organization_List': ['Biotechnology Institute of UNAM'], 'Supergroup': ''}, attributes={'uid': '552284'})], 'DbBuild': 'Build250923-1445.1'}, attributes={'status': 'OK'})}\n",
      "dict_keys(['TaxId', 'Project_Id', 'Project_Acc', 'Project_Type', 'Project_Data_Type', 'Sort_By_ProjectType', 'Sort_By_DataType', 'Sort_By_Organism', 'Project_Subtype', 'Project_Target_Scope', 'Project_Target_Material', 'Project_Target_Capture', 'Project_MethodType', 'Project_Method', 'Project_Objectives_List', 'Registration_Date', 'Project_Name', 'Project_Title', 'Project_Description', 'Keyword', 'Relevance_Agricultural', 'Relevance_Medical', 'Relevance_Industrial', 'Relevance_Environmental', 'Relevance_Evolution', 'Relevance_Model', 'Relevance_Other', 'Organism_Name', 'Organism_Strain', 'Organism_Label', 'Sequencing_Status', 'Submitter_Organization', 'Submitter_Organization_List', 'Supergroup'])\n",
      "\n",
      "=== Información del BioProject ===\n",
      "Tipo de proyecto: Raw sequence reads\n",
      "Metodo del proyecto: Sequencing\n",
      "Organismo: \n",
      "Descripción: Babesia divergens is a tick-borne, obligate intraerythrocytic apicomplexa parasite responsible of cattle and human babesiosis. While cattle babesiosis produces significant economic annual losses to the livestock industry, human babesiosis is considered a recently emerging public health problem main due to its high mortality rate in splenectomized and other immunocompromised patients. A high-quality draft genome of B. divergens was sequenced using Illumina, 454 and PacBio sequencing platforms. The combining strategy designed will allow comparative genomics and synteny studies due to its continuity close to chromosome resolution.\n"
     ]
    }
   ],
   "source": [
    "from Bio import Entrez \n",
    "import pandas as pd \n",
    "from io import StringIO \n",
    "import subprocess\n",
    "import os \n",
    "\n",
    "Entrez.email= \"ismadls@lcg.unam.mx\"\n",
    "\n",
    "proyec_acc= \"PRJNA552284\" \n",
    "\n",
    "#Hacemos la consulta con esaearch de el id en la base bioproject en especifico \n",
    "handle= Entrez.esearch(db=\"bioproject\", term=proyec_acc)\n",
    "#guardamos \n",
    "search= Entrez.read(handle) \n",
    "handle.close()\n",
    "\n",
    "print(search)\n",
    "\n",
    "#salida de la consulta \n",
    "\"\"\"\n",
    "'Count': '1', \n",
    "'RetMax': '1', \n",
    "'RetStart': '0', \n",
    "'IdList': ['552284'], \n",
    "'TranslationSet': [], \n",
    "'TranslationStack': [{'Term': 'PRJNA552284[All Fields]', 'Field': 'All Fields', 'Count': '1', 'Explode': 'N'}, 'GROUP'], 'QueryTranslation': 'PRJNA552284[All Fields]'}\n",
    "\n",
    "\"\"\" \n",
    "\n",
    "#consulatmos el UID \n",
    "project_uid= search[\"IdList\"][0] \n",
    "\n",
    "print(project_uid)\n",
    "\n",
    "#consultamos el resumen del proyecto \n",
    "\n",
    "handle = Entrez.esummary(db=\"bioproject\", id=project_uid)\n",
    "project_record= Entrez.read(handle)\n",
    "handle.close()\n",
    "\n",
    "print(project_record) \n",
    "\n",
    "#seleccionamos la informacion especifico \n",
    "\n",
    "proj= project_record[\"DocumentSummarySet\"][\"DocumentSummary\"][0]\n",
    "\n",
    "#Obtenemos los datos especificos del proyecto \n",
    "print(proj.keys()) \n",
    "\n",
    "print(\"\\n=== Información del BioProject ===\")\n",
    "print(\"Tipo de proyecto:\", proj[\"Project_Data_Type\"])\n",
    "print(\"Metodo del proyecto:\", proj[\"Project_MethodType\"])\n",
    "print(\"Organismo:\", proj[\"Organism_Name\"])\n",
    "print(\"Descripción:\", proj.get(\"Project_Description\"))\n"
   ]
  },
  {
   "cell_type": "markdown",
   "id": "43fe8a92",
   "metadata": {},
   "source": [
    "### Consultar con otras bases de datos "
   ]
  },
  {
   "cell_type": "code",
   "execution_count": 21,
   "id": "9abe5877",
   "metadata": {},
   "outputs": [
    {
     "name": "stdout",
     "output_type": "stream",
     "text": [
      "{'Count': '1', 'RetMax': '1', 'RetStart': '0', 'IdList': ['16899'], 'TranslationSet': [], 'TranslationStack': [{'Term': 'PRJNA16899[All Fields]', 'Field': 'All Fields', 'Count': '1', 'Explode': 'N'}, 'GROUP'], 'QueryTranslation': 'PRJNA16899[All Fields]'}\n",
      "['16899']\n"
     ]
    },
    {
     "data": {
      "text/plain": [
       "[{'LinkSetDbHistory': [], 'LinkSetDb': [], 'ERROR': [], 'DbFrom': 'bioproject', 'IdList': ['16899']}]"
      ]
     },
     "execution_count": 21,
     "metadata": {},
     "output_type": "execute_result"
    }
   ],
   "source": [
    "# funcion elink  \n",
    "\n",
    "handle= Entrez.elink(dbfrom=\"bioproject\", db=\"gds\", id= project_uid)\n",
    "linksBioProj= Entrez.read(handle)\n",
    "handle.close()\n",
    "# este proyecto no cuenta con links por lo que se hara con otro para ejemplificar \n",
    "linksBioProj \n",
    "\n",
    "\n",
    "proyect_acc=\"PRJNA16899\" \n",
    "handle= Entrez.esearch(db=\"bioproject\", term= proyect_acc)\n",
    "search= Entrez.read(handle)\n",
    "handle.close()\n",
    "\n",
    "print(search) \n",
    "\n",
    "project_id=search[\"IdList\"] \n",
    "print(project_id) \n",
    "\n",
    "handle= Entrez.elink(dbfrom=\"bioproject\", db=\"gds\", id= project_id)\n",
    "linksBioProj= Entrez.read(handle)\n",
    "handle.close()\n",
    "\n",
    "linksBioProj"
   ]
  }
 ],
 "metadata": {
  "kernelspec": {
   "display_name": "base",
   "language": "python",
   "name": "python3"
  },
  "language_info": {
   "codemirror_mode": {
    "name": "ipython",
    "version": 3
   },
   "file_extension": ".py",
   "mimetype": "text/x-python",
   "name": "python",
   "nbconvert_exporter": "python",
   "pygments_lexer": "ipython3",
   "version": "3.13.5"
  }
 },
 "nbformat": 4,
 "nbformat_minor": 5
}
