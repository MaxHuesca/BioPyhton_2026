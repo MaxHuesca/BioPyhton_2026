{
 "cells": [
  {
   "cell_type": "markdown",
   "id": "2dad7158",
   "metadata": {},
   "source": [
    "# Manejo de datos depositados en una Base de datos \n",
    "\n",
    "## 2. Conceptos clave: BioProject, BioSample, SRA y GEO\n",
    "De manera general, un BioProject (PRJNAxxxxxx) describe el proyecto de investigación en su conjunto (por ejemplo, un estudio de RNA-Seq) y se vincula a una o varias BioSamples (SAMNxxxxxx), que documentan las características biológicas de cada muestra. A partir de estas BioSamples se generan los datos crudos de secuenciación, almacenados en el Sequence Read Archive (SRA, SRRxxxxxx).\n",
    "\n",
    "En algunos casos, el proyecto también deposita información en Gene Expression Omnibus (GEO):\n",
    "\n",
    "Cada GSE corresponde a un experimento completo.\n",
    "Cada GSM corresponde a una muestra individual, asociada a sus archivos de secuenciación.\n",
    "En resumen, la ruta BioProject → BioSample → SRA está siempre presente, mientras que la rama hacia GEO es opcional y depende del tipo de estudio. \n",
    "\n",
    "\n",
    "\n",
    "## Entrez \n",
    "Es un modulo de **biopython**  que permite efecturar descarga de base de datos  \n",
    "\n",
    "### Resumen de funciones de Bio.Entrez\n",
    "- `esearch`: Buscar IDs en una base de datos.\n",
    "- `efetch`: Descargar información completa (texto, XML, secuencias, metadatos).\n",
    "- `esummary`: Obtener un resumen de un ID (título, organismo, etc.). \n",
    "> La función esummary devuelve un diccionario que resume la información esencial de un BioProject, incluyendo datos sobre el organismo, tipo y objetivo del > > proyecto, fecha de registro, estado de secuenciación y más. La siguiente estructura muestra los campos más relevantes obtenidos para el proyecto\n",
    "- `elink`: Encontrar vínculos entre bases de datos (ej. GSE → SRA).\n",
    "- `egquery`: Buscar un término en todas las bases del NCBI y ver cuántos resultados hay.\n",
    "- `espell`: Corregir errores ortográficos en la búsqueda.\n",
    "- `einfo`: Ver información de una base de datos (campos, descripción, qué contiene).\n",
    "- `read`: convierte la respuesta de NCBI, en un objeto de python(listas, diccionarios, strings, etc.)."
   ]
  },
  {
   "cell_type": "code",
   "execution_count": null,
   "id": "133e20d1",
   "metadata": {},
   "outputs": [
    {
     "name": "stdout",
     "output_type": "stream",
     "text": [
      "{'Count': '1', 'RetMax': '1', 'RetStart': '0', 'IdList': ['552284'], 'TranslationSet': [], 'TranslationStack': [{'Term': 'PRJNA552284[All Fields]', 'Field': 'All Fields', 'Count': '1', 'Explode': 'N'}, 'GROUP'], 'QueryTranslation': 'PRJNA552284[All Fields]'}\n",
      "552284\n",
      "{'DocumentSummarySet': DictElement({'DocumentSummary': [DictElement({'TaxId': '0', 'Project_Id': '552284', 'Project_Acc': 'PRJNA552284', 'Project_Type': 'Primary submission', 'Project_Data_Type': 'Raw sequence reads', 'Sort_By_ProjectType': '563532', 'Sort_By_DataType': '551612', 'Sort_By_Organism': '884981', 'Project_Subtype': '', 'Project_Target_Scope': 'Multispecies', 'Project_Target_Material': 'Genome', 'Project_Target_Capture': 'Whole', 'Project_MethodType': 'Sequencing', 'Project_Method': '', 'Project_Objectives_List': [{'Project_ObjectivesType': 'Raw Sequence Reads', 'Project_Objectives': ''}], 'Registration_Date': '2019/07/02 00:00', 'Project_Name': '', 'Project_Title': 'Babesia divergens strain:Bd Rouen 1987 | cultivar:Babesia divergens human red blood cells culture', 'Project_Description': 'Babesia divergens is a tick-borne, obligate intraerythrocytic apicomplexa parasite responsible of cattle and human babesiosis. While cattle babesiosis produces significant economic annual losses to the livestock industry, human babesiosis is considered a recently emerging public health problem main due to its high mortality rate in splenectomized and other immunocompromised patients. A high-quality draft genome of B. divergens was sequenced using Illumina, 454 and PacBio sequencing platforms. The combining strategy designed will allow comparative genomics and synteny studies due to its continuity close to chromosome resolution.', 'Keyword': '', 'Relevance_Agricultural': '', 'Relevance_Medical': 'yes', 'Relevance_Industrial': '', 'Relevance_Environmental': '', 'Relevance_Evolution': '', 'Relevance_Model': '', 'Relevance_Other': '', 'Organism_Name': '', 'Organism_Strain': '', 'Organism_Label': '', 'Sequencing_Status': 'SRA/Trace', 'Submitter_Organization': 'Biotechnology Institute of UNAM', 'Submitter_Organization_List': ['Biotechnology Institute of UNAM'], 'Supergroup': ''}, attributes={'uid': '552284'})], 'DbBuild': 'Build250930-0720.1'}, attributes={'status': 'OK'})}\n",
      "dict_keys(['TaxId', 'Project_Id', 'Project_Acc', 'Project_Type', 'Project_Data_Type', 'Sort_By_ProjectType', 'Sort_By_DataType', 'Sort_By_Organism', 'Project_Subtype', 'Project_Target_Scope', 'Project_Target_Material', 'Project_Target_Capture', 'Project_MethodType', 'Project_Method', 'Project_Objectives_List', 'Registration_Date', 'Project_Name', 'Project_Title', 'Project_Description', 'Keyword', 'Relevance_Agricultural', 'Relevance_Medical', 'Relevance_Industrial', 'Relevance_Environmental', 'Relevance_Evolution', 'Relevance_Model', 'Relevance_Other', 'Organism_Name', 'Organism_Strain', 'Organism_Label', 'Sequencing_Status', 'Submitter_Organization', 'Submitter_Organization_List', 'Supergroup'])\n",
      "\n",
      "=== Información del BioProject ===\n",
      "Tipo de proyecto: Raw sequence reads\n",
      "Metodo del proyecto: Sequencing\n",
      "Organismo: \n",
      "Descripción: Babesia divergens is a tick-borne, obligate intraerythrocytic apicomplexa parasite responsible of cattle and human babesiosis. While cattle babesiosis produces significant economic annual losses to the livestock industry, human babesiosis is considered a recently emerging public health problem main due to its high mortality rate in splenectomized and other immunocompromised patients. A high-quality draft genome of B. divergens was sequenced using Illumina, 454 and PacBio sequencing platforms. The combining strategy designed will allow comparative genomics and synteny studies due to its continuity close to chromosome resolution.\n"
     ]
    }
   ],
   "source": [
    "from Bio import Entrez \n",
    "import pandas as pd \n",
    "from io import StringIO \n",
    "import subprocess\n",
    "import os \n",
    "\n",
    "Entrez.email= \"ismadls@lcg.unam.mx\"\n",
    "\n",
    "proyec_acc= \"PRJNA552284\" \n",
    "\n",
    "#Hacemos la consulta con esaearch de el id en la base bioproject en especifico \n",
    "handle= Entrez.esearch(db=\"bioproject\", term=proyec_acc)\n",
    "#guardamos \n",
    "search= Entrez.read(handle) \n",
    "handle.close()\n",
    "\n",
    "print(search)\n",
    "\n",
    "#salida de la consulta \n",
    "\"\"\"\n",
    "Count\tNúmero total de resultados encontrados para la búsqueda.\n",
    "RetMax\tMáximo de resultados devueltos en la consulta actual (por defecto 20 si no se especifica).\n",
    "RetStart\tÍndice del primer resultado devuelto (sirve para paginar los resultados).\n",
    "IdList\tLista de identificadores únicos (UIDs) de los resultados encontrados. Estos UIDs se usan en efetch, esummary, etc.\n",
    "TranslationSet\tConjunto de traducciones de términos de búsqueda que hace NCBI (ej. sinónimos o equivalencias). Puede estar vacío.\n",
    "TranslationStack\tMuestra paso a paso cómo NCBI interpretó tu búsqueda (ej. en qué campos buscó y cuántos resultados encontró).\n",
    "QueryTranslation\tVersión final de la consulta después de ser interpretada por NCBI (puede ser igual a tu búsqueda original o una forma ajustada).\n",
    "\n",
    "\"\"\" \n",
    "#consulatmos el UID \n",
    "project_uid= search[\"IdList\"][0] \n",
    "\n",
    "print(project_uid)\n"
   ]
  },
  {
   "cell_type": "markdown",
   "id": "25fc4be0",
   "metadata": {},
   "source": [
    "### Consultar el resumen de un proyecto "
   ]
  },
  {
   "cell_type": "code",
   "execution_count": 4,
   "id": "6fd6f988",
   "metadata": {},
   "outputs": [
    {
     "name": "stdout",
     "output_type": "stream",
     "text": [
      "{'DocumentSummarySet': DictElement({'DocumentSummary': [DictElement({'TaxId': '0', 'Project_Id': '552284', 'Project_Acc': 'PRJNA552284', 'Project_Type': 'Primary submission', 'Project_Data_Type': 'Raw sequence reads', 'Sort_By_ProjectType': '563532', 'Sort_By_DataType': '551612', 'Sort_By_Organism': '884981', 'Project_Subtype': '', 'Project_Target_Scope': 'Multispecies', 'Project_Target_Material': 'Genome', 'Project_Target_Capture': 'Whole', 'Project_MethodType': 'Sequencing', 'Project_Method': '', 'Project_Objectives_List': [{'Project_ObjectivesType': 'Raw Sequence Reads', 'Project_Objectives': ''}], 'Registration_Date': '2019/07/02 00:00', 'Project_Name': '', 'Project_Title': 'Babesia divergens strain:Bd Rouen 1987 | cultivar:Babesia divergens human red blood cells culture', 'Project_Description': 'Babesia divergens is a tick-borne, obligate intraerythrocytic apicomplexa parasite responsible of cattle and human babesiosis. While cattle babesiosis produces significant economic annual losses to the livestock industry, human babesiosis is considered a recently emerging public health problem main due to its high mortality rate in splenectomized and other immunocompromised patients. A high-quality draft genome of B. divergens was sequenced using Illumina, 454 and PacBio sequencing platforms. The combining strategy designed will allow comparative genomics and synteny studies due to its continuity close to chromosome resolution.', 'Keyword': '', 'Relevance_Agricultural': '', 'Relevance_Medical': 'yes', 'Relevance_Industrial': '', 'Relevance_Environmental': '', 'Relevance_Evolution': '', 'Relevance_Model': '', 'Relevance_Other': '', 'Organism_Name': '', 'Organism_Strain': '', 'Organism_Label': '', 'Sequencing_Status': 'SRA/Trace', 'Submitter_Organization': 'Biotechnology Institute of UNAM', 'Submitter_Organization_List': ['Biotechnology Institute of UNAM'], 'Supergroup': ''}, attributes={'uid': '552284'})], 'DbBuild': 'Build250930-0720.1'}, attributes={'status': 'OK'})}\n",
      "dict_keys(['TaxId', 'Project_Id', 'Project_Acc', 'Project_Type', 'Project_Data_Type', 'Sort_By_ProjectType', 'Sort_By_DataType', 'Sort_By_Organism', 'Project_Subtype', 'Project_Target_Scope', 'Project_Target_Material', 'Project_Target_Capture', 'Project_MethodType', 'Project_Method', 'Project_Objectives_List', 'Registration_Date', 'Project_Name', 'Project_Title', 'Project_Description', 'Keyword', 'Relevance_Agricultural', 'Relevance_Medical', 'Relevance_Industrial', 'Relevance_Environmental', 'Relevance_Evolution', 'Relevance_Model', 'Relevance_Other', 'Organism_Name', 'Organism_Strain', 'Organism_Label', 'Sequencing_Status', 'Submitter_Organization', 'Submitter_Organization_List', 'Supergroup'])\n",
      "\n",
      "=== Información del BioProject ===\n",
      "Tipo de proyecto: Raw sequence reads\n",
      "Metodo del proyecto: Sequencing\n",
      "Organismo: \n",
      "Descripción: Babesia divergens is a tick-borne, obligate intraerythrocytic apicomplexa parasite responsible of cattle and human babesiosis. While cattle babesiosis produces significant economic annual losses to the livestock industry, human babesiosis is considered a recently emerging public health problem main due to its high mortality rate in splenectomized and other immunocompromised patients. A high-quality draft genome of B. divergens was sequenced using Illumina, 454 and PacBio sequencing platforms. The combining strategy designed will allow comparative genomics and synteny studies due to its continuity close to chromosome resolution.\n"
     ]
    }
   ],
   "source": [
    "#consultamos el resumen del proyecto \n",
    "\n",
    "handle = Entrez.esummary(db=\"bioproject\", id=project_uid)\n",
    "project_record= Entrez.read(handle)\n",
    "handle.close()\n",
    "\n",
    "print(project_record) \n",
    "\n",
    "#seleccionamos la informacion especifico \n",
    "\n",
    "proj= project_record[\"DocumentSummarySet\"][\"DocumentSummary\"][0]\n",
    "\n",
    "#Obtenemos los datos especificos del proyecto \n",
    "print(proj.keys()) \n",
    "\n",
    "print(\"\\n=== Información del BioProject ===\")\n",
    "print(\"Tipo de proyecto:\", proj[\"Project_Data_Type\"])\n",
    "print(\"Metodo del proyecto:\", proj[\"Project_MethodType\"])\n",
    "print(\"Organismo:\", proj[\"Organism_Name\"])\n",
    "print(\"Descripción:\", proj.get(\"Project_Description\"))"
   ]
  },
  {
   "cell_type": "markdown",
   "id": "43fe8a92",
   "metadata": {},
   "source": [
    "### Consultar con otras bases de datos "
   ]
  },
  {
   "cell_type": "code",
   "execution_count": null,
   "id": "9abe5877",
   "metadata": {},
   "outputs": [
    {
     "name": "stdout",
     "output_type": "stream",
     "text": [
      "{'Count': '1', 'RetMax': '1', 'RetStart': '0', 'IdList': ['16899'], 'TranslationSet': [], 'TranslationStack': [{'Term': 'PRJNA16899[All Fields]', 'Field': 'All Fields', 'Count': '1', 'Explode': 'N'}, 'GROUP'], 'QueryTranslation': 'PRJNA16899[All Fields]'}\n",
      "['16899']\n"
     ]
    },
    {
     "data": {
      "text/plain": [
       "[{'ERROR': [], 'LinkSetDb': [], 'LinkSetDbHistory': [], 'DbFrom': 'bioproject', 'IdList': ['16899']}]"
      ]
     },
     "execution_count": 5,
     "metadata": {},
     "output_type": "execute_result"
    }
   ],
   "source": [
    "# funcion elink  \n",
    "\n",
    "handle= Entrez.elink(dbfrom=\"bioproject\", db=\"gds\", id= project_uid)\n",
    "linksBioProj= Entrez.read(handle)\n",
    "handle.close()\n",
    "# este proyecto no cuenta con links por lo que se hara con otro para ejemplificar \n",
    "linksBioProj \n"
   ]
  },
  {
   "cell_type": "code",
   "execution_count": null,
   "id": "9cc0867c",
   "metadata": {},
   "outputs": [
    {
     "name": "stdout",
     "output_type": "stream",
     "text": [
      "{'Count': '1', 'RetMax': '1', 'RetStart': '0', 'IdList': ['168994'], 'TranslationSet': [], 'TranslationStack': [{'Term': 'PRJNA168994[All Fields]', 'Field': 'All Fields', 'Count': '1', 'Explode': 'N'}, 'GROUP'], 'QueryTranslation': 'PRJNA168994[All Fields]'}\n",
      "UID del BioProject: 168994\n",
      "[{'ERROR': [], 'LinkSetDb': [{'Link': [{'Id': '200040045'}, {'Id': '200040043'}, {'Id': '200040042'}, {'Id': '200040040'}, {'Id': '200040039'}, {'Id': '200040038'}, {'Id': '200040036'}, {'Id': '200040034'}, {'Id': '200040016'}, {'Id': '200040015'}, {'Id': '200037756'}, {'Id': '200037440'}, {'Id': '200037439'}, {'Id': '200037438'}, {'Id': '200037437'}, {'Id': '200037436'}, {'Id': '200037435'}, {'Id': '200037434'}, {'Id': '200037300'}, {'Id': '200037299'}, {'Id': '200037297'}, {'Id': '200037293'}, {'Id': '200037292'}, {'Id': '200037291'}, {'Id': '200025570'}, {'Id': '200025392'}, {'Id': '200025390'}, {'Id': '200025387'}, {'Id': '200025348'}, {'Id': '200025347'}, {'Id': '200024608'}, {'Id': '200024607'}, {'Id': '200024605'}, {'Id': '200024604'}, {'Id': '200024545'}, {'Id': '200024544'}, {'Id': '200024543'}, {'Id': '200024542'}, {'Id': '200024541'}, {'Id': '200024540'}, {'Id': '200024539'}, {'Id': '200024317'}, {'Id': '200024316'}, {'Id': '200024315'}, {'Id': '200024314'}, {'Id': '200024313'}, {'Id': '200024312'}, {'Id': '200024311'}, {'Id': '200024310'}, {'Id': '200024309'}, {'Id': '200024308'}, {'Id': '200024307'}, {'Id': '200024306'}, {'Id': '200024305'}, {'Id': '200024304'}, {'Id': '200024303'}, {'Id': '200024302'}, {'Id': '200024301'}, {'Id': '200024300'}, {'Id': '200024299'}, {'Id': '200024298'}, {'Id': '200023235'}, {'Id': '200023234'}, {'Id': '200023233'}, {'Id': '200023232'}, {'Id': '200023231'}, {'Id': '200023230'}, {'Id': '200023229'}, {'Id': '200023228'}, {'Id': '200023227'}, {'Id': '200023226'}, {'Id': '200023225'}, {'Id': '200023224'}, {'Id': '200023223'}, {'Id': '200023222'}, {'Id': '200023221'}, {'Id': '200023220'}, {'Id': '200023219'}, {'Id': '200020348'}, {'Id': '200018508'}, {'Id': '200018068'}, {'Id': '200017621'}, {'Id': '200017107'}, {'Id': '200016330'}, {'Id': '200016329'}, {'Id': '200016328'}, {'Id': '200016327'}, {'Id': '200016326'}, {'Id': '200016325'}, {'Id': '200016324'}, {'Id': '200016323'}, {'Id': '200016322'}, {'Id': '200016321'}, {'Id': '200016320'}, {'Id': '200016319'}, {'Id': '200016318'}, {'Id': '200016317'}, {'Id': '200016316'}, {'Id': '200016315'}, {'Id': '200016314'}, {'Id': '200016313'}, {'Id': '200016312'}, {'Id': '200016311'}, {'Id': '200016310'}, {'Id': '200016309'}, {'Id': '200016308'}, {'Id': '200016307'}, {'Id': '200016306'}, {'Id': '200016305'}, {'Id': '200016304'}, {'Id': '200016303'}, {'Id': '200016302'}, {'Id': '200016301'}, {'Id': '200016300'}, {'Id': '200016299'}, {'Id': '200016298'}, {'Id': '200016297'}, {'Id': '200016296'}, {'Id': '200016295'}, {'Id': '200016294'}, {'Id': '200016293'}, {'Id': '200016292'}, {'Id': '200016291'}, {'Id': '200016290'}, {'Id': '200016289'}, {'Id': '200016288'}, {'Id': '200016287'}, {'Id': '200016286'}, {'Id': '200016285'}, {'Id': '200016284'}, {'Id': '200016283'}, {'Id': '200016282'}, {'Id': '200016281'}, {'Id': '200016280'}, {'Id': '200016279'}, {'Id': '200016278'}, {'Id': '200016277'}, {'Id': '200016276'}, {'Id': '200016275'}, {'Id': '200016274'}, {'Id': '200016273'}, {'Id': '200016272'}, {'Id': '200016271'}, {'Id': '200016270'}, {'Id': '200016269'}, {'Id': '200015899'}, {'Id': '200015898'}, {'Id': '200015897'}, {'Id': '200015596'}, {'Id': '200015378'}, {'Id': '200014849'}, {'Id': '200014488'}, {'Id': '200013679'}, {'Id': '200013441'}, {'Id': '200012840'}, {'Id': '200010790'}], 'DbTo': 'gds', 'LinkName': 'bioproject_gds'}], 'LinkSetDbHistory': [], 'DbFrom': 'bioproject', 'IdList': ['168994']}]\n"
     ]
    }
   ],
   "source": [
    "#Proyecto pasilla \n",
    "\n",
    "project_acc = \"PRJNA168994\"\n",
    "handle = Entrez.esearch(db=\"bioproject\", term=project_acc)\n",
    "search_results = Entrez.read(handle)\n",
    "print(search_results)\n",
    "handle.close() \n",
    "\n",
    "# Extraer solo el UID\n",
    "project_uid = search_results[\"IdList\"][0]\n",
    "print(\"UID del BioProject:\", project_uid) \n",
    "\n",
    "\n",
    "# Revisar enlaces desde BioProject hacia GEO (GDS), con el uid del bioproject\n",
    "handle = Entrez.elink(dbfrom=\"bioproject\", db=\"gds\", id=project_uid)\n",
    "linksBioProj = Entrez.read(handle)\n",
    "handle.close()\n",
    "\n",
    "print(linksBioProj)"
   ]
  },
  {
   "cell_type": "code",
   "execution_count": 8,
   "id": "e23cf251",
   "metadata": {},
   "outputs": [
    {
     "name": "stdout",
     "output_type": "stream",
     "text": [
      "\n",
      "El proyecto PRJNA168994  está asociado a la base de datos de GEO\n",
      "UIDs GEO asociados: ['200040045', '200040043', '200040042', '200040040', '200040039'] ... total: 156\n"
     ]
    }
   ],
   "source": [
    "#Obtenemos una lista con links relacionados  \n",
    "if linksBioProj[0][\"LinkSetDb\"]:\n",
    "    geo_ids = [link[\"Id\"] for link in linksBioProj[0][\"LinkSetDb\"][0][\"Link\"]]\n",
    "    print(\"\\nEl proyecto\", project_acc, \" está asociado a la base de datos de GEO\")\n",
    "    print(\"UIDs GEO asociados:\", geo_ids[:5], \"... total:\", len(geo_ids))\n",
    "else:\n",
    "    print(\"\\nEl proyecto\", project_acc, \" NO tiene enlaces directos a GEO\") "
   ]
  },
  {
   "cell_type": "markdown",
   "id": "313745e4",
   "metadata": {},
   "source": [
    "### Resumen de un GSE y sus muestras (GSM) \n",
    "\n",
    "Al ejecutar esummary sobre un UID de GEO (GSE), obtenemos un diccionario con múltiples campos que describen el experimento. Entre la información más relevante se encuentran:\n",
    "\n",
    "- Accession: identificador tipo GSE\n",
    "- title: título del estudio\n",
    "- summary: descripción general del experimento\n",
    "- organisms estudiados\n",
    "- Samples: lista de muestras asociadas (GSM)\n",
    "- Publicación: fecha de publicación\n",
    "- Plataforma tecnológica utilizada\n",
    "- Estos campos permiten comprender rápidamente el alcance y los objetivos del experimento sin necesidad de explorar los registros individuales de cada muestra (GSM). \n"
   ]
  },
  {
   "cell_type": "code",
   "execution_count": 9,
   "id": "a69649d7",
   "metadata": {},
   "outputs": [
    {
     "name": "stdout",
     "output_type": "stream",
     "text": [
      "{'Item': [], 'Id': '200040043', 'Accession': 'GSE40043', 'GDS': '', 'title': 'Drosophila melanogaster Pupae 2-4 days', 'summary': 'modENCODE_submission_757 This submission comes from a modENCODE project of Eric Lai. For full list of modENCODE projects, see http://www.genome.gov/26524648 Project Goal: We plan to generate a comprehensive catalog of expressed and functional microRNAs, and generate biological evidence for their regulatory activity. We plan also to delineate the primary transcription units of microRNA genes. Finally, we plan to annotate other classes of non-miRNA expressed small RNAs, as least some of which may define novel classes of small RNA genes. For data usage terms and conditions, please refer to http://www.genome.gov/27528022 and http://www.genome.gov/Pages/Research/ENCODE/ENCODEDataReleasePolicyFinal2008.pdf', 'GPL': '9058', 'GSE': '40043', 'taxon': 'Drosophila melanogaster', 'entryType': 'GSE', 'gdsType': 'Non-coding RNA profiling by high throughput sequencing', 'ptechType': '', 'valType': '', 'SSInfo': '', 'subsetInfo': '', 'PDAT': '2012/08/10', 'suppFile': '', 'Samples': [{'Accession': 'GSM984194', 'Title': 'Pupae 2-4d (Replicate 1) extraction1_seq1 aliquote 1'}, {'Accession': 'GSM984195', 'Title': 'Pupae 2-4d (Replicate 2) extraction2_seq1 aliquote 1'}], 'Relations': [], 'ExtRelations': [{'RelationType': 'SRA', 'TargetObject': 'SRX002668', 'TargetFTPLink': 'ftp://ftp-trace.ncbi.nlm.nih.gov/sra/sra-instant/reads/ByStudy/sra/SRX/SRX002/SRX002668/'}, {'RelationType': 'SRA', 'TargetObject': 'SRX002670', 'TargetFTPLink': 'ftp://ftp-trace.ncbi.nlm.nih.gov/sra/sra-instant/reads/ByStudy/sra/SRX/SRX002/SRX002670/'}], 'n_samples': IntegerElement(2, attributes={}), 'SeriesTitle': '', 'PlatformTitle': '', 'PlatformTaxa': '', 'SamplesTaxa': '', 'PubMedIds': [], 'Projects': [{'Name': 'modENCODE', 'URL': 'https://www.ncbi.nlm.nih.gov/geo/encode/'}], 'FTPLink': 'ftp://ftp.ncbi.nlm.nih.gov/geo/series/GSE40nnn/GSE40043/', 'GEO2R': 'no'}\n",
      "dict_keys(['Item', 'Id', 'Accession', 'GDS', 'title', 'summary', 'GPL', 'GSE', 'taxon', 'entryType', 'gdsType', 'ptechType', 'valType', 'SSInfo', 'subsetInfo', 'PDAT', 'suppFile', 'Samples', 'Relations', 'ExtRelations', 'n_samples', 'SeriesTitle', 'PlatformTitle', 'PlatformTaxa', 'SamplesTaxa', 'PubMedIds', 'Projects', 'FTPLink', 'GEO2R'])\n",
      "=== GEO Accession ===\n",
      "Accession: GSE40043\n",
      "Tipo: GSE\n",
      "Título: Drosophila melanogaster Pupae 2-4 days\n",
      "Resumen: modENCODE_submission_757 This submission comes from a modENCODE project of Eric Lai. For full list of modENCODE projects, see http://www.genome.gov/26524648 Project Goal: We plan to generate a comprehensive catalog of expressed and functional microRNAs, and generate biological evidence for their regulatory activity. We plan also to delineate the primary transcription units of microRNA genes. Finally, we plan to annotate other classes of non-miRNA expressed small RNAs, as least some of which may define novel classes of small RNA genes. For data usage terms and conditions, please refer to http://www.genome.gov/27528022 and http://www.genome.gov/Pages/Research/ENCODE/ENCODEDataReleasePolicyFinal2008.pdf\n",
      "Organismo: Drosophila melanogaster\n",
      "Número de muestras: IntegerElement(2, attributes={})\n",
      "PubMed IDs: []\n",
      "Enlace FTP: ftp://ftp.ncbi.nlm.nih.gov/geo/series/GSE40nnn/GSE40043/\n",
      "Archivos suplementarios: \n",
      "Proyectos:  [{'Name': 'modENCODE', 'URL': 'https://www.ncbi.nlm.nih.gov/geo/encode/'}]\n",
      "\n",
      "=== Muestras ===\n",
      "GSM984194 : Pupae 2-4d (Replicate 1) extraction1_seq1 aliquote 1\n",
      "GSM984195 : Pupae 2-4d (Replicate 2) extraction2_seq1 aliquote 1\n"
     ]
    }
   ],
   "source": [
    "# Verificando la información de GEO\n",
    "geo_uid = geo_ids[1]  # ejemplo, segundo UID\n",
    "handle = Entrez.esummary(db=\"gds\", id=geo_uid)\n",
    "summary = Entrez.read(handle)\n",
    "handle.close()\n",
    "print(summary[0])\n",
    "print(summary[0].keys()) \n",
    "\n",
    "\n",
    "# imprimiendo los campos\n",
    "geo_record=summary[0]\n",
    "print(\"=== GEO Accession ===\")\n",
    "print(\"Accession:\", geo_record.get(\"Accession\"))\n",
    "print(\"Tipo:\", geo_record.get(\"entryType\"))\n",
    "print(\"Título:\", geo_record.get(\"title\"))\n",
    "print(\"Resumen:\", geo_record.get(\"summary\"))\n",
    "print(\"Organismo:\", geo_record.get(\"taxon\"))\n",
    "print(\"Número de muestras:\", geo_record.get(\"n_samples\"))\n",
    "print(\"PubMed IDs:\", geo_record.get(\"PubMedIds\"))\n",
    "print(\"Enlace FTP:\", geo_record.get(\"FTPLink\"))\n",
    "print(\"Archivos suplementarios:\", geo_record.get(\"suppFile\"))\n",
    "print(\"Proyectos: \",geo_record.get(\"Projects\"))\n",
    "\n",
    "# Muestras asociadas\n",
    "print(\"\\n=== Muestras ===\")\n",
    "for sample in geo_record.get(\"Samples\",[]):\n",
    "    print(sample['Accession'],\":\",sample['Title'])"
   ]
  },
  {
   "cell_type": "markdown",
   "id": "18d826d5",
   "metadata": {},
   "source": [
    "### Obtener muestras asociadas \n",
    "Es hora de obtener los datos de los experimentos que hemos estando consultando "
   ]
  },
  {
   "cell_type": "code",
   "execution_count": 11,
   "id": "8180d8c1",
   "metadata": {},
   "outputs": [
    {
     "name": "stdout",
     "output_type": "stream",
     "text": [
      "{'Count': '1', 'RetMax': '1', 'RetStart': '0', 'IdList': ['14790'], 'TranslationSet': [], 'TranslationStack': [{'Term': 'GSM461177[All Fields]', 'Field': 'All Fields', 'Count': '1', 'Explode': 'N'}, 'GROUP'], 'QueryTranslation': 'GSM461177[All Fields]'}\n",
      "Index(['Run', 'ReleaseDate', 'LoadDate', 'spots', 'bases', 'spots_with_mates',\n",
      "       'avgLength', 'size_MB', 'AssemblyName', 'download_path', 'Experiment',\n",
      "       'LibraryName', 'LibraryStrategy', 'LibrarySelection', 'LibrarySource',\n",
      "       'LibraryLayout', 'InsertSize', 'InsertDev', 'Platform', 'Model',\n",
      "       'SRAStudy', 'BioProject', 'Study_Pubmed_id', 'ProjectID', 'Sample',\n",
      "       'BioSample', 'SampleType', 'TaxID', 'ScientificName', 'SampleName',\n",
      "       'g1k_pop_code', 'source', 'g1k_analysis_group', 'Subject_ID', 'Sex',\n",
      "       'Disease', 'Tumor', 'Affection_Status', 'Analyte_Type',\n",
      "       'Histological_Type', 'Body_Site', 'CenterName', 'Submission',\n",
      "       'dbgap_study_accession', 'Consent', 'RunHash', 'ReadHash'],\n",
      "      dtype='object')\n"
     ]
    },
    {
     "data": {
      "text/html": [
       "<div>\n",
       "<style scoped>\n",
       "    .dataframe tbody tr th:only-of-type {\n",
       "        vertical-align: middle;\n",
       "    }\n",
       "\n",
       "    .dataframe tbody tr th {\n",
       "        vertical-align: top;\n",
       "    }\n",
       "\n",
       "    .dataframe thead th {\n",
       "        text-align: right;\n",
       "    }\n",
       "</style>\n",
       "<table border=\"1\" class=\"dataframe\">\n",
       "  <thead>\n",
       "    <tr style=\"text-align: right;\">\n",
       "      <th></th>\n",
       "      <th>Run</th>\n",
       "      <th>Experiment</th>\n",
       "      <th>Platform</th>\n",
       "      <th>LibraryName</th>\n",
       "      <th>LibraryLayout</th>\n",
       "      <th>Sample</th>\n",
       "      <th>ScientificName</th>\n",
       "      <th>SampleName</th>\n",
       "    </tr>\n",
       "  </thead>\n",
       "  <tbody>\n",
       "    <tr>\n",
       "      <th>0</th>\n",
       "      <td>SRR031714</td>\n",
       "      <td>SRX014459</td>\n",
       "      <td>ILLUMINA</td>\n",
       "      <td>S2_DRSC_Untreated-3</td>\n",
       "      <td>PAIRED</td>\n",
       "      <td>SRS008447</td>\n",
       "      <td>Drosophila melanogaster</td>\n",
       "      <td>GSM461177</td>\n",
       "    </tr>\n",
       "    <tr>\n",
       "      <th>1</th>\n",
       "      <td>SRR031715</td>\n",
       "      <td>SRX014459</td>\n",
       "      <td>ILLUMINA</td>\n",
       "      <td>S2_DRSC_Untreated-3</td>\n",
       "      <td>PAIRED</td>\n",
       "      <td>SRS008447</td>\n",
       "      <td>Drosophila melanogaster</td>\n",
       "      <td>GSM461177</td>\n",
       "    </tr>\n",
       "  </tbody>\n",
       "</table>\n",
       "</div>"
      ],
      "text/plain": [
       "         Run Experiment  Platform          LibraryName LibraryLayout  \\\n",
       "0  SRR031714  SRX014459  ILLUMINA  S2_DRSC_Untreated-3        PAIRED   \n",
       "1  SRR031715  SRX014459  ILLUMINA  S2_DRSC_Untreated-3        PAIRED   \n",
       "\n",
       "      Sample           ScientificName SampleName  \n",
       "0  SRS008447  Drosophila melanogaster  GSM461177  \n",
       "1  SRS008447  Drosophila melanogaster  GSM461177  "
      ]
     },
     "metadata": {},
     "output_type": "display_data"
    }
   ],
   "source": [
    "# Obtener el UID correspondiente a la muestra\n",
    "gsm_id = \"GSM461177\"\n",
    "handle = Entrez.esearch(db=\"sra\", term=gsm_id)\n",
    "record = Entrez.read(handle)\n",
    "print(record) \n",
    "\n",
    "\n",
    "# Consultar si existe el identificador\n",
    "if not record[\"IdList\"]:\n",
    "    print(\"No se encontraron SRR para\", gsm_id)\n",
    "else:\n",
    "    sra_id = record[\"IdList\"]\n",
    "# Obtener la información de la corrida como texto\n",
    "    handle = Entrez.efetch(db=\"sra\", id=sra_id, rettype=\"runinfo\", retmode=\"text\")\n",
    "    #este objeto pued contener un objeto binario b'binary_text'\n",
    "    runinfo = handle.read()\n",
    "    handle.close()\n",
    "    \n",
    "    #si este objeto es de tipo binario hay que convertirlo a texto para poder leerlo \n",
    "    if isinstance(runinfo, bytes):\n",
    "        runinfo = runinfo.decode(\"utf-8\")\n",
    "\n",
    "# Cargar en pandas el resultado, directamente desde la cadena\n",
    "    df = pd.read_csv(StringIO(runinfo))\n",
    "    print(df.columns)\n",
    "    display(df[['Run','Experiment','Platform','LibraryName','LibraryLayout','Sample','ScientificName','SampleName']].head())"
   ]
  },
  {
   "cell_type": "markdown",
   "id": "d42df250",
   "metadata": {},
   "source": [
    "Ahora ya sabemos los archivos SRR asosciados a una muestra de un proyecto sigue la descarga de los datos \n",
    "\n",
    "### Descarga con SRA ToolKit \n",
    "\n",
    "El SRA Toolkit (sra-tools) es un conjunto de programas creados por el NCBI para descargar y manejar datos de secuenciación masiva almacenados en el SRA (Sequence Read Archive).\n",
    "Este toolkit incluye diversas funciones que permiten explorar, validar, convertir y descargar datos.\n",
    "\n",
    "En este curso nos enfocaremos únicamente en las funciones de descarga y conversión, necesarias para obtener las secuencias en formato FASTQ para nuestro análisis. No obstante, el toolkit cuenta con otras utilidades que pueden consultarse en la documentación oficial o ejecutando --help en cualquier comando.\n",
    "\n",
    "Funiones de descarga y conversión\n",
    "\n",
    "prefetch: descarga los archivos SRR completos desde el servidor del SRA hacia tu disco local.\n",
    "fastq-dump / fasterq-dump: extrae las secuencias en formato FASTQ desde los archivos SRR descargados. Permite separar lecturas pareadas (--split-files) y comprimir los resultados (--gzip).\n",
    "Con esto, podemos explorar los SRR asociados a cada muestra, conocer la plataforma, el tipo de librería y otros metadatos relevantes para análisis de RNA-Seq. \n",
    "\n",
    "\n",
    "#### subprocces\n",
    "Las herramientas de SRA Toolkit se ejecutan normalmente desde la línea de comandos en una terminal. Como no forman parte de Python ni de Biopython, para integrarlas dentro de un script usamos la biblioteca estándar subprocess, que permite ejecutar programas externos y capturar su salida. Esto facilita automatizar la descarga y conversión de múltiples archivos SRR en un flujo de análisis reproducible. \n",
    "\n",
    "\n",
    "Función\t\n",
    "- subprocess.run()\tEjecuta un comando externo y espera a que termine, tiene una lista como parametros que es la sintaxis del comando seaprada por partes \n",
    "```\n",
    "args, check, stdout, stderr, cwd, text\n",
    "\n",
    "\n",
    "```\n",
    "`subprocess.run([\"ls\",\"-l\"], check=True, stdout=subprocess.PIPE, text=True)`\n",
    "\n",
    "- subprocess.Popen()\tEjecuta un proceso y permite interactuar con él\t\n",
    "\n",
    "```\n",
    "stdin, stdout, stderr, text, cwd\n",
    "\n",
    "```\t\n",
    "\n",
    "`p = subprocess.Popen([\"echo\",\"Hola\"], stdout=subprocess.PIPE, text=True); output, errors = p.communicate()`\n",
    "\n",
    "- subprocess.call()\tEjecuta un comando y devuelve solo el código de salida\t\n",
    "```\n",
    "args, cwd\n",
    "```\t\n",
    "\n",
    "`ret_code = subprocess.call([\"ls\",\"-l\"])`\n",
    "\n",
    "- subprocess.check_output()\tEjecuta un comando y devuelve la salida como string\targs, stderr, text\toutput = subprocess.check_output([\"ls\",\"-l\"], text=True)"
   ]
  },
  {
   "cell_type": "code",
   "execution_count": 13,
   "id": "be9d39bc",
   "metadata": {},
   "outputs": [
    {
     "ename": "FileNotFoundError",
     "evalue": "[WinError 2] El sistema no puede encontrar el archivo especificado",
     "output_type": "error",
     "traceback": [
      "\u001b[31m---------------------------------------------------------------------------\u001b[39m",
      "\u001b[31mFileNotFoundError\u001b[39m                         Traceback (most recent call last)",
      "\u001b[36mCell\u001b[39m\u001b[36m \u001b[39m\u001b[32mIn[13]\u001b[39m\u001b[32m, line 5\u001b[39m\n\u001b[32m      2\u001b[39m output_dir = \u001b[33m\"\u001b[39m\u001b[33mC://Users//vrahu//OneDrive//Documentos//Ismadlsh//CCG//2026-S3//bioPython//babesia_genomic_analysis_wrk//data\u001b[39m\u001b[33m\"\u001b[39m\n\u001b[32m      4\u001b[39m \u001b[38;5;66;03m# Hacer el prefetch de los archivos srr\u001b[39;00m\n\u001b[32m----> \u001b[39m\u001b[32m5\u001b[39m \u001b[43msubprocess\u001b[49m\u001b[43m.\u001b[49m\u001b[43mrun\u001b[49m\u001b[43m(\u001b[49m\u001b[43m[\u001b[49m\u001b[33;43m\"\u001b[39;49m\u001b[33;43mprefetch\u001b[39;49m\u001b[33;43m\"\u001b[39;49m\u001b[43m,\u001b[49m\u001b[43m \u001b[49m\u001b[33;43m\"\u001b[39;49m\u001b[33;43m--output-directory\u001b[39;49m\u001b[33;43m\"\u001b[39;49m\u001b[43m,\u001b[49m\u001b[43m \u001b[49m\u001b[43moutput_dir\u001b[49m\u001b[43m,\u001b[49m\u001b[43m \u001b[49m\u001b[33;43m\"\u001b[39;49m\u001b[33;43mSRR031714\u001b[39;49m\u001b[33;43m\"\u001b[39;49m\u001b[43m]\u001b[49m\u001b[43m,\u001b[49m\u001b[43m \u001b[49m\u001b[43mcheck\u001b[49m\u001b[43m=\u001b[49m\u001b[38;5;28;43;01mTrue\u001b[39;49;00m\u001b[43m)\u001b[49m\n\u001b[32m      6\u001b[39m subprocess.run([\u001b[33m\"\u001b[39m\u001b[33mprefetch\u001b[39m\u001b[33m\"\u001b[39m, \u001b[33m\"\u001b[39m\u001b[33m--output-directory\u001b[39m\u001b[33m\"\u001b[39m, output_dir, \u001b[33m\"\u001b[39m\u001b[33mSRR031715\u001b[39m\u001b[33m\"\u001b[39m], check=\u001b[38;5;28;01mTrue\u001b[39;00m)\n",
      "\u001b[36mFile \u001b[39m\u001b[32mc:\\Users\\vrahu\\miniconda3\\Lib\\subprocess.py:554\u001b[39m, in \u001b[36mrun\u001b[39m\u001b[34m(input, capture_output, timeout, check, *popenargs, **kwargs)\u001b[39m\n\u001b[32m    551\u001b[39m     kwargs[\u001b[33m'\u001b[39m\u001b[33mstdout\u001b[39m\u001b[33m'\u001b[39m] = PIPE\n\u001b[32m    552\u001b[39m     kwargs[\u001b[33m'\u001b[39m\u001b[33mstderr\u001b[39m\u001b[33m'\u001b[39m] = PIPE\n\u001b[32m--> \u001b[39m\u001b[32m554\u001b[39m \u001b[38;5;28;01mwith\u001b[39;00m \u001b[43mPopen\u001b[49m\u001b[43m(\u001b[49m\u001b[43m*\u001b[49m\u001b[43mpopenargs\u001b[49m\u001b[43m,\u001b[49m\u001b[43m \u001b[49m\u001b[43m*\u001b[49m\u001b[43m*\u001b[49m\u001b[43mkwargs\u001b[49m\u001b[43m)\u001b[49m \u001b[38;5;28;01mas\u001b[39;00m process:\n\u001b[32m    555\u001b[39m     \u001b[38;5;28;01mtry\u001b[39;00m:\n\u001b[32m    556\u001b[39m         stdout, stderr = process.communicate(\u001b[38;5;28minput\u001b[39m, timeout=timeout)\n",
      "\u001b[36mFile \u001b[39m\u001b[32mc:\\Users\\vrahu\\miniconda3\\Lib\\subprocess.py:1039\u001b[39m, in \u001b[36mPopen.__init__\u001b[39m\u001b[34m(self, args, bufsize, executable, stdin, stdout, stderr, preexec_fn, close_fds, shell, cwd, env, universal_newlines, startupinfo, creationflags, restore_signals, start_new_session, pass_fds, user, group, extra_groups, encoding, errors, text, umask, pipesize, process_group)\u001b[39m\n\u001b[32m   1035\u001b[39m         \u001b[38;5;28;01mif\u001b[39;00m \u001b[38;5;28mself\u001b[39m.text_mode:\n\u001b[32m   1036\u001b[39m             \u001b[38;5;28mself\u001b[39m.stderr = io.TextIOWrapper(\u001b[38;5;28mself\u001b[39m.stderr,\n\u001b[32m   1037\u001b[39m                     encoding=encoding, errors=errors)\n\u001b[32m-> \u001b[39m\u001b[32m1039\u001b[39m     \u001b[38;5;28;43mself\u001b[39;49m\u001b[43m.\u001b[49m\u001b[43m_execute_child\u001b[49m\u001b[43m(\u001b[49m\u001b[43margs\u001b[49m\u001b[43m,\u001b[49m\u001b[43m \u001b[49m\u001b[43mexecutable\u001b[49m\u001b[43m,\u001b[49m\u001b[43m \u001b[49m\u001b[43mpreexec_fn\u001b[49m\u001b[43m,\u001b[49m\u001b[43m \u001b[49m\u001b[43mclose_fds\u001b[49m\u001b[43m,\u001b[49m\n\u001b[32m   1040\u001b[39m \u001b[43m                        \u001b[49m\u001b[43mpass_fds\u001b[49m\u001b[43m,\u001b[49m\u001b[43m \u001b[49m\u001b[43mcwd\u001b[49m\u001b[43m,\u001b[49m\u001b[43m \u001b[49m\u001b[43menv\u001b[49m\u001b[43m,\u001b[49m\n\u001b[32m   1041\u001b[39m \u001b[43m                        \u001b[49m\u001b[43mstartupinfo\u001b[49m\u001b[43m,\u001b[49m\u001b[43m \u001b[49m\u001b[43mcreationflags\u001b[49m\u001b[43m,\u001b[49m\u001b[43m \u001b[49m\u001b[43mshell\u001b[49m\u001b[43m,\u001b[49m\n\u001b[32m   1042\u001b[39m \u001b[43m                        \u001b[49m\u001b[43mp2cread\u001b[49m\u001b[43m,\u001b[49m\u001b[43m \u001b[49m\u001b[43mp2cwrite\u001b[49m\u001b[43m,\u001b[49m\n\u001b[32m   1043\u001b[39m \u001b[43m                        \u001b[49m\u001b[43mc2pread\u001b[49m\u001b[43m,\u001b[49m\u001b[43m \u001b[49m\u001b[43mc2pwrite\u001b[49m\u001b[43m,\u001b[49m\n\u001b[32m   1044\u001b[39m \u001b[43m                        \u001b[49m\u001b[43merrread\u001b[49m\u001b[43m,\u001b[49m\u001b[43m \u001b[49m\u001b[43merrwrite\u001b[49m\u001b[43m,\u001b[49m\n\u001b[32m   1045\u001b[39m \u001b[43m                        \u001b[49m\u001b[43mrestore_signals\u001b[49m\u001b[43m,\u001b[49m\n\u001b[32m   1046\u001b[39m \u001b[43m                        \u001b[49m\u001b[43mgid\u001b[49m\u001b[43m,\u001b[49m\u001b[43m \u001b[49m\u001b[43mgids\u001b[49m\u001b[43m,\u001b[49m\u001b[43m \u001b[49m\u001b[43muid\u001b[49m\u001b[43m,\u001b[49m\u001b[43m \u001b[49m\u001b[43mumask\u001b[49m\u001b[43m,\u001b[49m\n\u001b[32m   1047\u001b[39m \u001b[43m                        \u001b[49m\u001b[43mstart_new_session\u001b[49m\u001b[43m,\u001b[49m\u001b[43m \u001b[49m\u001b[43mprocess_group\u001b[49m\u001b[43m)\u001b[49m\n\u001b[32m   1048\u001b[39m \u001b[38;5;28;01mexcept\u001b[39;00m:\n\u001b[32m   1049\u001b[39m     \u001b[38;5;66;03m# Cleanup if the child failed starting.\u001b[39;00m\n\u001b[32m   1050\u001b[39m     \u001b[38;5;28;01mfor\u001b[39;00m f \u001b[38;5;129;01min\u001b[39;00m \u001b[38;5;28mfilter\u001b[39m(\u001b[38;5;28;01mNone\u001b[39;00m, (\u001b[38;5;28mself\u001b[39m.stdin, \u001b[38;5;28mself\u001b[39m.stdout, \u001b[38;5;28mself\u001b[39m.stderr)):\n",
      "\u001b[36mFile \u001b[39m\u001b[32mc:\\Users\\vrahu\\miniconda3\\Lib\\subprocess.py:1554\u001b[39m, in \u001b[36mPopen._execute_child\u001b[39m\u001b[34m(self, args, executable, preexec_fn, close_fds, pass_fds, cwd, env, startupinfo, creationflags, shell, p2cread, p2cwrite, c2pread, c2pwrite, errread, errwrite, unused_restore_signals, unused_gid, unused_gids, unused_uid, unused_umask, unused_start_new_session, unused_process_group)\u001b[39m\n\u001b[32m   1552\u001b[39m \u001b[38;5;66;03m# Start the process\u001b[39;00m\n\u001b[32m   1553\u001b[39m \u001b[38;5;28;01mtry\u001b[39;00m:\n\u001b[32m-> \u001b[39m\u001b[32m1554\u001b[39m     hp, ht, pid, tid = \u001b[43m_winapi\u001b[49m\u001b[43m.\u001b[49m\u001b[43mCreateProcess\u001b[49m\u001b[43m(\u001b[49m\u001b[43mexecutable\u001b[49m\u001b[43m,\u001b[49m\u001b[43m \u001b[49m\u001b[43margs\u001b[49m\u001b[43m,\u001b[49m\n\u001b[32m   1555\u001b[39m \u001b[43m                             \u001b[49m\u001b[38;5;66;43;03m# no special security\u001b[39;49;00m\n\u001b[32m   1556\u001b[39m \u001b[43m                             \u001b[49m\u001b[38;5;28;43;01mNone\u001b[39;49;00m\u001b[43m,\u001b[49m\u001b[43m \u001b[49m\u001b[38;5;28;43;01mNone\u001b[39;49;00m\u001b[43m,\u001b[49m\n\u001b[32m   1557\u001b[39m \u001b[43m                             \u001b[49m\u001b[38;5;28;43mint\u001b[39;49m\u001b[43m(\u001b[49m\u001b[38;5;129;43;01mnot\u001b[39;49;00m\u001b[43m \u001b[49m\u001b[43mclose_fds\u001b[49m\u001b[43m)\u001b[49m\u001b[43m,\u001b[49m\n\u001b[32m   1558\u001b[39m \u001b[43m                             \u001b[49m\u001b[43mcreationflags\u001b[49m\u001b[43m,\u001b[49m\n\u001b[32m   1559\u001b[39m \u001b[43m                             \u001b[49m\u001b[43menv\u001b[49m\u001b[43m,\u001b[49m\n\u001b[32m   1560\u001b[39m \u001b[43m                             \u001b[49m\u001b[43mcwd\u001b[49m\u001b[43m,\u001b[49m\n\u001b[32m   1561\u001b[39m \u001b[43m                             \u001b[49m\u001b[43mstartupinfo\u001b[49m\u001b[43m)\u001b[49m\n\u001b[32m   1562\u001b[39m \u001b[38;5;28;01mfinally\u001b[39;00m:\n\u001b[32m   1563\u001b[39m     \u001b[38;5;66;03m# Child is launched. Close the parent's copy of those pipe\u001b[39;00m\n\u001b[32m   1564\u001b[39m     \u001b[38;5;66;03m# handles that only the child should have open.  You need\u001b[39;00m\n\u001b[32m   (...)\u001b[39m\u001b[32m   1567\u001b[39m     \u001b[38;5;66;03m# pipe will not close when the child process exits and the\u001b[39;00m\n\u001b[32m   1568\u001b[39m     \u001b[38;5;66;03m# ReadFile will hang.\u001b[39;00m\n\u001b[32m   1569\u001b[39m     \u001b[38;5;28mself\u001b[39m._close_pipe_fds(p2cread, p2cwrite,\n\u001b[32m   1570\u001b[39m                          c2pread, c2pwrite,\n\u001b[32m   1571\u001b[39m                          errread, errwrite)\n",
      "\u001b[31mFileNotFoundError\u001b[39m: [WinError 2] El sistema no puede encontrar el archivo especificado"
     ]
    }
   ],
   "source": [
    "# Crear la ruta del directorio de entrada y salida de datos\n",
    "output_dir = \"C://Users//vrahu//OneDrive//Documentos//Ismadlsh//CCG//2026-S3//bioPython//babesia_genomic_analysis_wrk//data\"\n",
    "\n",
    "# Hacer el prefetch de los archivos srr\n",
    "subprocess.run([\"prefetch\", \"--output-directory\", output_dir, \"SRR031714\"], check=True)\n",
    "subprocess.run([\"prefetch\", \"--output-directory\", output_dir, \"SRR031715\"], check=True)"
   ]
  },
  {
   "cell_type": "markdown",
   "id": "c86e6d5f",
   "metadata": {},
   "source": [
    "En este fragmento de código definimos primero el directorio donde se guardarán los datos (output_dir). Luego utilizamos la función subprocess.run() para ejecutar el comando prefetch del SRA Toolkit, indicando el identificador de cada archivo (SRR031714 y SRR031715) junto con la opción --output-directory, que especifica la ruta de destino. La opción check=True asegura que, si ocurre un error en la ejecución del comando, Python detenga el script y muestre el error.\n",
    "\n",
    "Una vez descargados los archivos SRR, el siguiente paso es convertirlos al formato FASTQ, que es el estándar para trabajar con secuencias crudas. El siguiente código realiza la conversión para los archivos SRR031714 y SRR031715, utilizando la instrucción fastq-dump."
   ]
  },
  {
   "cell_type": "code",
   "execution_count": null,
   "id": "afc54dd3",
   "metadata": {},
   "outputs": [],
   "source": [
    "# Obtener las secuencias en formato fastq\n",
    "\n",
    "#obtenemos la direccion del archivo \n",
    "srr_output_dir = os.path.join(output_dir, \"SRR031714\")\n",
    "print(srr_output_dir)\n",
    "#usamos el comando fastdump para obetmer lps archivps fastq \n",
    "subprocess.run([\"fastq-dump\", \"SRR031714\", \"-O\", srr_output_dir,\"--split-files\", \"--gzip\"], check=True)\n",
    "srr_output_dir = os.path.join(output_dir, \"SRR031715\")\n",
    "print(srr_output_dir)\n",
    "subprocess.run([\"fastq-dump\", \"SRR031715\", \"-O\", srr_output_dir,\"--split-files\", \"--gzip\"], check=True)"
   ]
  }
 ],
 "metadata": {
  "kernelspec": {
   "display_name": "base",
   "language": "python",
   "name": "python3"
  },
  "language_info": {
   "codemirror_mode": {
    "name": "ipython",
    "version": 3
   },
   "file_extension": ".py",
   "mimetype": "text/x-python",
   "name": "python",
   "nbconvert_exporter": "python",
   "pygments_lexer": "ipython3",
   "version": "3.13.5"
  }
 },
 "nbformat": 4,
 "nbformat_minor": 5
}
