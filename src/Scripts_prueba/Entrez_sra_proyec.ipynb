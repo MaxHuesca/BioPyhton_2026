{
 "cells": [
  {
   "cell_type": "markdown",
   "id": "45d22197",
   "metadata": {},
   "source": [
    "# Testeo de funciones y scripts para pipeline descarga de datos \n",
    "\n",
    "El objetivo es hacer la descarga de datos y consultar la informacion de un bioproyect en especifico mediante distintas funciones (modularizacion de codigo) que son testeadas en cada celda de este jupiter"
   ]
  },
  {
   "cell_type": "code",
   "execution_count": 2,
   "id": "c8ea2b88",
   "metadata": {},
   "outputs": [],
   "source": [
    "#Librerias a utilizar para el jercicio \n",
    "import Bio \n",
    "from Bio import Entrez \n",
    "import pandas"
   ]
  }
 ],
 "metadata": {
  "kernelspec": {
   "display_name": "base",
   "language": "python",
   "name": "python3"
  },
  "language_info": {
   "codemirror_mode": {
    "name": "ipython",
    "version": 3
   },
   "file_extension": ".py",
   "mimetype": "text/x-python",
   "name": "python",
   "nbconvert_exporter": "python",
   "pygments_lexer": "ipython3",
   "version": "3.13.5"
  }
 },
 "nbformat": 4,
 "nbformat_minor": 5
}
