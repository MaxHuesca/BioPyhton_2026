{
 "cells": [
  {
   "cell_type": "markdown",
   "id": "ead744e1",
   "metadata": {},
   "source": [
    "## Introduccion biopython \n",
    "\n",
    "```bash\n",
    "#instalar biopyhton\n",
    "pip install biopython\n",
    "pip install --upgrade biopython\n",
    "pip uninstall biopython\n",
    "\n",
    "```"
   ]
  },
  {
   "cell_type": "code",
   "execution_count": 7,
   "id": "ae0c72a4",
   "metadata": {},
   "outputs": [
    {
     "name": "stdout",
     "output_type": "stream",
     "text": [
      "TAGCCAGCTGCATGCA\n",
      "AUCGGUCGACGUACGU\n",
      "UAGCCAGCUGCAUGCA\n"
     ]
    }
   ],
   "source": [
    "import Bio \n",
    "from Bio.Seq import Seq \n",
    "from Bio.Seq import MutableSeq as verguero\n",
    "\n",
    "\n",
    "\n",
    "#Esta funcion crea un objeto tipo seq \n",
    "seq = Seq('ATCGGTCGACGTACGT')\n",
    "\n",
    "#el objeto seq es inmutable por lo que para modificarlo se usa la funcion en especifico \"MutableSeq\"\n",
    "\n",
    "seq_verguera= verguero(seq) \n",
    "seq_verguera[0]=\"T\"\n",
    "seq_verguera \n",
    "\n",
    "#el objeto seq tiene muchos atributos utiles como : \n",
    "\n",
    "#Sacar la secuencia complementaria \n",
    "print(seq.complement())\n",
    "\n",
    "#Sacar la secuencia de RNA \n",
    "print(seq.transcribe())\n",
    "\n",
    "#Secuencia RNA complementaria \n",
    "\n",
    "print(seq.complement_rna()) "
   ]
  },
  {
   "cell_type": "markdown",
   "id": "cffc89f1",
   "metadata": {},
   "source": [
    "### SeqUtils \n",
    "seq utils es una libreria dentro de bipython que permite realizar diversos metodos con los objetos de seq "
   ]
  },
  {
   "cell_type": "code",
   "execution_count": 15,
   "id": "7027fe37",
   "metadata": {},
   "outputs": [
    {
     "name": "stdout",
     "output_type": "stream",
     "text": [
      "['ACG', 7, 31]\n",
      "0.5952380952380952\n",
      "13011.2644\n"
     ]
    }
   ],
   "source": [
    "from Bio import SeqUtils \n",
    "from Bio.SeqUtils import gc_fraction\n",
    "from Bio.SeqUtils import molecular_weight \n",
    "\n",
    "\n",
    "#buscar patrones \n",
    "pattern = Seq(\"ACG\")\n",
    "# Secuencia donde buscaremos patrón\n",
    "sequence = Seq(\"ATGCGCGACGGCGTGATCAGCTTATAGCCGTACGACTGCTGC\")\n",
    "# Busqueda patrón en secuencia tipo STRING!!\n",
    "results = SeqUtils.nt_search(str(sequence), pattern) #<<\n",
    "\n",
    "#regresa el patron buscado sequido con la lista de las posiciones encontradas \n",
    "print(results)\n",
    "\n",
    "print(gc_fraction(sequence)) \n",
    "\n",
    "print(molecular_weight(sequence))\n"
   ]
  },
  {
   "cell_type": "markdown",
   "id": "443b826f",
   "metadata": {},
   "source": [
    "### SeqIo \n",
    "Este modulo dentro de biopython permite manejar archivos como fasta dentro de un obejto con distintos atributos \n",
    "\n",
    "#### Objetos SeqRecord\n",
    "\n",
    "> SeqIO.Parse genera objetos Bio.SeqRecord.SeqRecord\n",
    "\n",
    "#### Atributos principales:\n",
    "ID: identificador (cadena) objeto.id\n",
    "\n",
    "Seq: secuencia (objeto Seq o similar) objeto.seq\n",
    "\n",
    "#### Atributos adicionales:\n",
    "name: Nombre de la secuencia, e.g. nombre del gen (string)\n",
    "\n",
    "description: Texto adicional (cadena)\n",
    "\n",
    "dbxrefs: Lista de referencias cruzadas de bases de datos (lista de cadenas)\n",
    "\n",
    "features: Cualquier (sub)features definidos (lista de objetos SeqFeature)\n",
    "\n",
    "annotations: Más información sobre la secuencia (dictionary). cadenas, o lista de cadenas."
   ]
  },
  {
   "cell_type": "code",
   "execution_count": null,
   "id": "64929ff1",
   "metadata": {},
   "outputs": [],
   "source": [
    "from Bio import SeqIO \n",
    "\n",
    "\n",
    "#SeqIO.parse(): toma archivo (o handle) y su respectivo formato para regresa iterador de SeqRecord \n",
    "\n",
    "# parsea archivo example.fasta, puedes obtener id, seq, name, features, etc..\n",
    "for record in SeqIO.parse(\"data/ls_orchid.fasta\", \"fasta\"):\n",
    "    print(record.id)\n",
    "\n",
    "# alternativamente se puede usar lo siguiente    \n",
    "with open(\"data/ejemplo.fasta\") as handle:\n",
    "    for record in SeqIO.parse(handle, \"fasta\"):\n",
    "        print(record.id)"
   ]
  }
 ],
 "metadata": {
  "kernelspec": {
   "display_name": "base",
   "language": "python",
   "name": "python3"
  },
  "language_info": {
   "codemirror_mode": {
    "name": "ipython",
    "version": 3
   },
   "file_extension": ".py",
   "mimetype": "text/x-python",
   "name": "python",
   "nbconvert_exporter": "python",
   "pygments_lexer": "ipython3",
   "version": "3.13.5"
  }
 },
 "nbformat": 4,
 "nbformat_minor": 5
}
